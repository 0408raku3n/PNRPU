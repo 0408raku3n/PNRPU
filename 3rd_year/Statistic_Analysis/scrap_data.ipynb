{
 "cells": [
  {
   "cell_type": "code",
   "execution_count": 1,
   "id": "fc1895ff",
   "metadata": {},
   "outputs": [],
   "source": [
    "import pandas as pd"
   ]
  },
  {
   "cell_type": "code",
   "execution_count": 4,
   "id": "f3d493f1",
   "metadata": {},
   "outputs": [],
   "source": [
    "gdp_data = pd.read_csv(\"Russia_GRP.csv\")\n",
    "oil_data = pd.read_csv(\"crude-oil-price.csv\")"
   ]
  },
  {
   "cell_type": "code",
   "execution_count": 3,
   "id": "b1985bd4",
   "metadata": {},
   "outputs": [
    {
     "name": "stdout",
     "output_type": "stream",
     "text": [
      "Index(['Entity DCID', 'Entity properties isoCode', 'Entity properties name',\n",
      "       'Variable DCID', 'Variable observation date',\n",
      "       'Variable observation metadata importName',\n",
      "       'Variable observation metadata provenanceUrl',\n",
      "       'Variable observation metadata scalingFactor',\n",
      "       'Variable observation metadata unit',\n",
      "       'Variable observation metadata unitDisplayName',\n",
      "       'Variable observation value', 'Variable perCapita DCID',\n",
      "       'Variable perCapita observation date',\n",
      "       'Variable perCapita observation metadata importName',\n",
      "       'Variable perCapita observation metadata provenanceUrl',\n",
      "       'Variable perCapita observation metadata scalingFactor',\n",
      "       'Variable perCapita observation metadata unit',\n",
      "       'Variable perCapita observation metadata unitDisplayName',\n",
      "       'Variable perCapita observation value',\n",
      "       'Variable perCapita perCapitaValue',\n",
      "       'Variable perCapita properties name', 'Variable properties name'],\n",
      "      dtype='object')\n"
     ]
    }
   ],
   "source": [
    "print(gdp_data.columns)"
   ]
  },
  {
   "cell_type": "code",
   "execution_count": null,
   "id": "7f29b920",
   "metadata": {},
   "outputs": [
    {
     "name": "stdout",
     "output_type": "stream",
     "text": [
      "Date: 1988, \n",
      "          Value: 554.83\n",
      "Date: 1989, \n",
      "          Value: 506.63\n",
      "Date: 1990, \n",
      "          Value: 517.01\n",
      "Date: 1991, \n",
      "          Value: 517.96\n",
      "Date: 1992, \n",
      "          Value: 460.29\n",
      "Date: 1993, \n",
      "          Value: 435.08\n",
      "Date: 1994, \n",
      "          Value: 395.08\n",
      "Date: 1995, \n",
      "          Value: 395.54\n",
      "Date: 1996, \n",
      "          Value: 391.72\n",
      "Date: 1997, \n",
      "          Value: 404.93\n",
      "Date: 1998, \n",
      "          Value: 270.96\n",
      "Date: 1999, \n",
      "          Value: 195.91\n",
      "Date: 2000, \n",
      "          Value: 259.71\n",
      "Date: 2001, \n",
      "          Value: 306.6\n",
      "Date: 2002, \n",
      "          Value: 345.47\n",
      "Date: 2003, \n",
      "          Value: 430.35\n",
      "Date: 2004, \n",
      "          Value: 591.02\n",
      "Date: 2005, \n",
      "          Value: 764.02\n",
      "Date: 2006, \n",
      "          Value: 989.93\n",
      "Date: 2007, \n",
      "          Value: 1299.7\n",
      "Date: 2008, \n",
      "          Value: 1660.85\n",
      "Date: 2009, \n",
      "          Value: 1222.65\n",
      "Date: 2010, \n",
      "          Value: 1524.92\n",
      "Date: 2011, \n",
      "          Value: 2045.92\n",
      "Date: 2012, \n",
      "          Value: 2208.29\n",
      "Date: 2013, \n",
      "          Value: 2292.47\n",
      "Date: 2014, \n",
      "          Value: 2059.24\n",
      "Date: 2015, \n",
      "          Value: 1363.48\n",
      "Date: 2016, \n",
      "          Value: 1276.79\n",
      "Date: 2017, \n",
      "          Value: 1574.2\n",
      "Date: 2018, \n",
      "          Value: 1657.33\n",
      "Date: 2019, \n",
      "          Value: 1693.12\n",
      "Date: 2020, \n",
      "          Value: 1493.08\n",
      "Date: 2021, \n",
      "          Value: 1829.19\n",
      "Date: 2022, \n",
      "          Value: 2291.61\n",
      "Date: 2023, \n",
      "          Value: 2071.51\n",
      "Date: 2024, \n",
      "          Value: 2173.84\n"
     ]
    }
   ],
   "source": [
    "for row in range(len(gdp_data)):\n",
    "    \n",
    "    print(f\"\"\"Date: {gdp_data[\"Variable observation date\"][row]}, \n",
    "          Value: {round(gdp_data[\"Variable observation value\"][row] / 1000000000, 2)}\"\"\")"
   ]
  },
  {
   "cell_type": "code",
   "execution_count": null,
   "id": "fec8345a",
   "metadata": {},
   "outputs": [],
   "source": []
  },
  {
   "cell_type": "code",
   "execution_count": null,
   "id": "4a68c9db",
   "metadata": {},
   "outputs": [],
   "source": []
  }
 ],
 "metadata": {
  "kernelspec": {
   "display_name": "Python 3",
   "language": "python",
   "name": "python3"
  },
  "language_info": {
   "codemirror_mode": {
    "name": "ipython",
    "version": 3
   },
   "file_extension": ".py",
   "mimetype": "text/x-python",
   "name": "python",
   "nbconvert_exporter": "python",
   "pygments_lexer": "ipython3",
   "version": "3.13.0"
  }
 },
 "nbformat": 4,
 "nbformat_minor": 5
}
