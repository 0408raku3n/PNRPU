{
 "cells": [
  {
   "cell_type": "code",
   "execution_count": 4,
   "metadata": {},
   "outputs": [],
   "source": [
    "import random as rd"
   ]
  },
  {
   "cell_type": "markdown",
   "metadata": {},
   "source": [
    "- state = 0 - подача А\n",
    "- state = 1 - подача B\n",
    "- state = 2 - гол A\n",
    "- state = 3 - гол B"
   ]
  },
  {
   "cell_type": "code",
   "execution_count": 11,
   "metadata": {},
   "outputs": [],
   "source": [
    "number_matches = int(input())"
   ]
  },
  {
   "cell_type": "code",
   "execution_count": 12,
   "metadata": {},
   "outputs": [
    {
     "name": "stdout",
     "output_type": "stream",
     "text": [
      "{(3, 0): 966589, (3, 1): 32657, (3, 2): 744, (2, 3): 6, (1, 3): 4}\n"
     ]
    }
   ],
   "source": [
    "matches = dict()\n",
    "for _ in range(number_matches):\n",
    "    match_score = [0, 0]\n",
    "    for i in range(5):\n",
    "        state = i % 2   # Если первый матч - начинает команда А, если второй - команда В, если третий - команда А и т.д.\n",
    "        \n",
    "        game_score = [0, 0]\n",
    "        prev_state = 0\n",
    "        while True:\n",
    "            match state:\n",
    "                case 0:\n",
    "                    r = rd.random()\n",
    "                    if r <= 0.7:\n",
    "                        state = 2\n",
    "                    else:\n",
    "                        state = 3\n",
    "\n",
    "                case 1:\n",
    "                    r = rd.random()\n",
    "                    if r <= 0.6:\n",
    "                        state = 2\n",
    "                    else:\n",
    "                        state = 3\n",
    "\n",
    "                case 2:\n",
    "                    if prev_state == 2:\n",
    "                        game_score[0] += 1\n",
    "                    else:\n",
    "                        prev_state = 2\n",
    "                    state = 0\n",
    "\n",
    "                case 3:\n",
    "                    if prev_state == 3:\n",
    "                        game_score[1] += 1\n",
    "                    else:\n",
    "                        prev_state = 3\n",
    "                    state = 1\n",
    "                \n",
    "            if (game_score[0] >= 15 or game_score[1] >= 15) and abs(game_score[0] - game_score[1]) >= 2:       # Условие окончание матча\n",
    "                match_score[game_score.index(max(game_score))] += 1\n",
    "                break\n",
    "                    \n",
    "        if match_score[0] == 3 or match_score[1] == 3:               # Если у кого либо счет 3, то конец моделирования\n",
    "            break\n",
    "    matches[tuple(match_score)] = matches.get(tuple(match_score), 0) + 1\n",
    "print(matches)"
   ]
  },
  {
   "cell_type": "code",
   "execution_count": 13,
   "metadata": {},
   "outputs": [
    {
     "name": "stdout",
     "output_type": "stream",
     "text": [
      "{(3, 0): 0.966589, (3, 1): 0.032657, (3, 2): 0.000744, (2, 3): 6e-06, (1, 3): 4e-06}\n"
     ]
    }
   ],
   "source": [
    "matches_probability = dict()\n",
    "for key, item in matches.items():\n",
    "    matches_probability[key] = item / number_matches\n",
    "print(matches_probability)"
   ]
  }
 ],
 "metadata": {
  "kernelspec": {
   "display_name": "Python 3",
   "language": "python",
   "name": "python3"
  },
  "language_info": {
   "codemirror_mode": {
    "name": "ipython",
    "version": 3
   },
   "file_extension": ".py",
   "mimetype": "text/x-python",
   "name": "python",
   "nbconvert_exporter": "python",
   "pygments_lexer": "ipython3",
   "version": "3.13.0"
  }
 },
 "nbformat": 4,
 "nbformat_minor": 2
}
