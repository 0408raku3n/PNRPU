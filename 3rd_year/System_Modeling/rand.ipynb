{
 "cells": [
  {
   "cell_type": "code",
   "execution_count": 2,
   "metadata": {},
   "outputs": [],
   "source": [
    "import random as rd\n",
    "import numpy as np"
   ]
  },
  {
   "cell_type": "code",
   "execution_count": 3,
   "metadata": {},
   "outputs": [],
   "source": [
    "lmbd = 10\n",
    "mu1 = 5\n",
    "mu2 = 5"
   ]
  },
  {
   "cell_type": "code",
   "execution_count": 4,
   "metadata": {},
   "outputs": [
    {
     "name": "stdout",
     "output_type": "stream",
     "text": [
      "[np.float64(7.63155971194603), np.float64(4.136795179356313), np.float64(33.92360175199566), np.float64(8.457683589122619), np.float64(2.3275712707446234), np.float64(1.3076503121733585), np.float64(1.4692316996218746), np.float64(2.4596493168178037), np.float64(1.3913407071286072), np.float64(0.3471273566241475), np.float64(22.91678389001844), np.float64(23.937424669599455), np.float64(11.421321935463919), np.float64(26.70484785314395), np.float64(8.580414303251557), np.float64(1.6612797303084594), np.float64(2.348341179697085), np.float64(14.012691357777326), np.float64(0.17877094826039838), np.float64(12.714195922312586), np.float64(11.878774771784586), np.float64(11.429950637667707), np.float64(22.94833157715361), np.float64(4.6254632282996955), np.float64(6.01906740382037), np.float64(12.839134181544948), np.float64(12.18790804076184), np.float64(1.208262706541373), np.float64(5.294079600061158), np.float64(8.03321502185555), np.float64(0.09532871795450787), np.float64(33.098558054326745), np.float64(0.026649073066008905), np.float64(3.763673880067974), np.float64(21.698887592400908), np.float64(17.087948911687274), np.float64(2.1996024171711634), np.float64(11.397471599051027), np.float64(10.416482174387424), np.float64(3.361774481606657), np.float64(7.808096089828398), np.float64(0.219795701222864), np.float64(5.904761843417308), np.float64(16.961850587206502), np.float64(4.233461731141635), np.float64(1.5684628804595802), np.float64(0.25680677031259364), np.float64(17.116554190566326), np.float64(9.538848365295083), np.float64(4.033406142676604), np.float64(8.41966630696675), np.float64(8.262069650255192), np.float64(22.247452652810313), np.float64(10.275456041413234), np.float64(4.4837878446416735), np.float64(24.647458390609344), np.float64(1.069583532044246), np.float64(11.331659583549303), np.float64(11.149268803764729)]\n"
     ]
    }
   ],
   "source": [
    "sum = 0\n",
    "lmbd_tau = []\n",
    "while sum < 550:\n",
    "    r = rd.random()\n",
    "    tau = ((-1) / lmbd) * np.log(r) * 100\n",
    "    lmbd_tau.append(tau)\n",
    "    sum += tau\n",
    "print(lmbd_tau)"
   ]
  },
  {
   "cell_type": "code",
   "execution_count": 112,
   "metadata": {},
   "outputs": [
    {
     "name": "stdout",
     "output_type": "stream",
     "text": [
      "12.530849833628777\n"
     ]
    }
   ],
   "source": [
    "r = rd.random()\n",
    "r_mu1 = ((-1) / mu1) * np.log(r) * 100\n",
    "print(r_mu1)"
   ]
  }
 ],
 "metadata": {
  "kernelspec": {
   "display_name": "Python 3",
   "language": "python",
   "name": "python3"
  },
  "language_info": {
   "codemirror_mode": {
    "name": "ipython",
    "version": 3
   },
   "file_extension": ".py",
   "mimetype": "text/x-python",
   "name": "python",
   "nbconvert_exporter": "python",
   "pygments_lexer": "ipython3",
   "version": "3.13.0"
  }
 },
 "nbformat": 4,
 "nbformat_minor": 2
}
