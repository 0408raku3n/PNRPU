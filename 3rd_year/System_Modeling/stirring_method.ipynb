{
 "cells": [
  {
   "cell_type": "code",
   "execution_count": 8,
   "metadata": {},
   "outputs": [],
   "source": [
    "number = 51285986"
   ]
  },
  {
   "cell_type": "code",
   "execution_count": 25,
   "metadata": {},
   "outputs": [
    {
     "name": "stdout",
     "output_type": "stream",
     "text": [
      "0.1704\n",
      "0.874\n",
      "0.1748\n",
      "0.922\n",
      "0.1844\n",
      "0.1028\n",
      "0.13\n",
      "0.26\n",
      "0.52\n",
      "0.104\n"
     ]
    }
   ],
   "source": [
    "N = 10\n",
    "for i in range(N):\n",
    "    shift = int(len(str(number)) / 4)\n",
    "    a1 = int(str(number)[0:len(str(number)) - shift])\n",
    "    a2 = int(str(number)[shift:])\n",
    "    number = a1 + a2\n",
    "    print(number / (10 ** len(str(number))))"
   ]
  },
  {
   "cell_type": "code",
   "execution_count": null,
   "metadata": {},
   "outputs": [],
   "source": []
  }
 ],
 "metadata": {
  "kernelspec": {
   "display_name": "Python 3",
   "language": "python",
   "name": "python3"
  },
  "language_info": {
   "codemirror_mode": {
    "name": "ipython",
    "version": 3
   },
   "file_extension": ".py",
   "mimetype": "text/x-python",
   "name": "python",
   "nbconvert_exporter": "python",
   "pygments_lexer": "ipython3",
   "version": "3.13.0"
  }
 },
 "nbformat": 4,
 "nbformat_minor": 2
}
