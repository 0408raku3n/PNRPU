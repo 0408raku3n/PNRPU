{
 "cells": [
  {
   "cell_type": "code",
   "execution_count": 1,
   "metadata": {},
   "outputs": [],
   "source": [
    "import random as rd\n",
    "import matplotlib.pyplot as plt\n",
    "import numpy as np"
   ]
  },
  {
   "cell_type": "code",
   "execution_count": 6,
   "metadata": {},
   "outputs": [],
   "source": [
    "cards = {\n",
    "    'hearts': [6, 7, 8, 9, 10, 'В', 'Д', 'К', 'Т'],\n",
    "    'diamonds': [6, 7, 8, 9, 10, 'В', 'Д', 'К', 'Т'],\n",
    "    'crosses': [6, 7, 8, 9, 10, 'В', 'Д', 'К', 'Т'],\n",
    "    'spades': [6, 7, 8, 9, 10, 'В', 'Д', 'К', 'Т']\n",
    "}"
   ]
  },
  {
   "cell_type": "code",
   "execution_count": null,
   "metadata": {},
   "outputs": [
    {
     "name": "stdout",
     "output_type": "stream",
     "text": [
      "['spades', 18]\n",
      "['diamonds', 14]\n",
      "['hearts', 11]\n",
      "['crosses', 13]\n",
      "['crosses', 14]\n"
     ]
    }
   ],
   "source": [
    "for _ in range(5):\n",
    "    rd_suit = rd.random()\n",
    "    suits = dict()\n",
    "    count = 0\n",
    "    prev = 0\n",
    "    for item in cards.values():\n",
    "        count += len(item)\n",
    "    for key, item in cards.items():\n",
    "        suits[key] = (prev + (len(item)) / count)\n",
    "        prev = prev + (len(item)) / count\n",
    "    \n",
    "    peaked_card = []\n",
    "    for key, item in suits.items():\n",
    "        if rd_suit <= item:\n",
    "            peaked_card.append(key)\n",
    "            break\n",
    "    \n",
    "    suits_values = {\n",
    "        'hearts': [],\n",
    "        'diamonds': [],\n",
    "        'crosses': [],\n",
    "        'spades': []\n",
    "    }\n",
    "\n",
    "    for key, item in cards.items():\n",
    "        prev = 0\n",
    "        for val in item:\n",
    "            suits_values[key].append(prev + (1 / len(item)))\n",
    "            prev = prev + (1 / len(item))\n",
    "    \n",
    "    rd_value = rd.random()\n",
    "    k = 10\n",
    "    for inter in suits_values[peaked_card[0]]:\n",
    "        if rd_value <= inter:\n",
    "            peaked_card.append(k)\n",
    "            break\n",
    "        k += 1\n",
    "    \n",
    "    print(peaked_card)\n",
    "    cards[peaked_card[0]].pop(peaked_card[1] - 10)\n",
    "    "
   ]
  },
  {
   "cell_type": "code",
   "execution_count": null,
   "metadata": {},
   "outputs": [],
   "source": []
  }
 ],
 "metadata": {
  "kernelspec": {
   "display_name": "Python 3",
   "language": "python",
   "name": "python3"
  },
  "language_info": {
   "codemirror_mode": {
    "name": "ipython",
    "version": 3
   },
   "file_extension": ".py",
   "mimetype": "text/x-python",
   "name": "python",
   "nbconvert_exporter": "python",
   "pygments_lexer": "ipython3",
   "version": "3.13.0"
  }
 },
 "nbformat": 4,
 "nbformat_minor": 2
}
