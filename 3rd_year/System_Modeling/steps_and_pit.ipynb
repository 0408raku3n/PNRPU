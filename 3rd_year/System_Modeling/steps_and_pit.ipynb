{
 "cells": [
  {
   "cell_type": "code",
   "execution_count": 1,
   "metadata": {},
   "outputs": [],
   "source": [
    "import numpy as np\n",
    "import matplotlib.pyplot as plt\n",
    "import random as rd"
   ]
  },
  {
   "cell_type": "code",
   "execution_count": 8,
   "metadata": {},
   "outputs": [],
   "source": [
    "n = 40\n",
    "N = [0] * n\n",
    "prob = []\n",
    "for i in range(n):\n",
    "    prob.append(rd.random())\n",
    "steps = [0] * n\n",
    "for i in range(n):\n",
    "    if i == 0:\n",
    "        if prob[i] > 0.5:\n",
    "            steps[i] = 1\n",
    "        else:\n",
    "            steps[i] = -1\n",
    "    else:\n",
    "        if prob[i] > 0.5:\n",
    "            steps[i] = steps[i - 1] + 1\n",
    "        else:\n",
    "            steps[i] = steps[i - 1] - 1\n"
   ]
  },
  {
   "cell_type": "code",
   "execution_count": 10,
   "metadata": {},
   "outputs": [
    {
     "name": "stdout",
     "output_type": "stream",
     "text": [
      "13\n"
     ]
    }
   ],
   "source": [
    "for i in range(0, n):\n",
    "    if steps[i] == 5:\n",
    "        print(i + 1)\n",
    "        break"
   ]
  },
  {
   "cell_type": "code",
   "execution_count": null,
   "metadata": {},
   "outputs": [],
   "source": []
  }
 ],
 "metadata": {
  "kernelspec": {
   "display_name": "Python 3",
   "language": "python",
   "name": "python3"
  },
  "language_info": {
   "codemirror_mode": {
    "name": "ipython",
    "version": 3
   },
   "file_extension": ".py",
   "mimetype": "text/x-python",
   "name": "python",
   "nbconvert_exporter": "python",
   "pygments_lexer": "ipython3",
   "version": "3.13.0"
  }
 },
 "nbformat": 4,
 "nbformat_minor": 2
}
