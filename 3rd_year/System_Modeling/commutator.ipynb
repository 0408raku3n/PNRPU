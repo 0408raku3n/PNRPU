{
 "cells": [
  {
   "cell_type": "code",
   "execution_count": 1,
   "metadata": {},
   "outputs": [],
   "source": [
    "import numpy as np"
   ]
  },
  {
   "cell_type": "code",
   "execution_count": 14,
   "metadata": {},
   "outputs": [],
   "source": [
    "signal = np.arange(0, 6)\n",
    "def one(value):\n",
    "    return value > 0"
   ]
  },
  {
   "cell_type": "code",
   "execution_count": 24,
   "metadata": {},
   "outputs": [
    {
     "name": "stdout",
     "output_type": "stream",
     "text": [
      "t=0 func=П\n",
      "t=1 func=К\n",
      "t=2 func=Т\n",
      "t=3 func=П\n",
      "t=4 func=К\n",
      "t=5 func=Т\n"
     ]
    }
   ],
   "source": [
    "def P(t):\n",
    "    return 'П' * (1 - one(t % 3))\n",
    "def K(t):\n",
    "    return 'К' * (1 - one(1 - t % 3) - (1 - one(2 - t % 3)))\n",
    "def T(t):\n",
    "    return 'Т' * (1 - one(2 - t % 3)) \n",
    "for t in signal:\n",
    "    print(f\"t={t} func={P(t) + K(t) + T(t)}\")"
   ]
  },
  {
   "cell_type": "code",
   "execution_count": null,
   "metadata": {},
   "outputs": [],
   "source": []
  }
 ],
 "metadata": {
  "kernelspec": {
   "display_name": "Python 3",
   "language": "python",
   "name": "python3"
  },
  "language_info": {
   "codemirror_mode": {
    "name": "ipython",
    "version": 3
   },
   "file_extension": ".py",
   "mimetype": "text/x-python",
   "name": "python",
   "nbconvert_exporter": "python",
   "pygments_lexer": "ipython3",
   "version": "3.13.0"
  }
 },
 "nbformat": 4,
 "nbformat_minor": 2
}
