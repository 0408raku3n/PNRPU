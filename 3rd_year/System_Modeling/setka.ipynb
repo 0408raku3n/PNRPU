{
 "cells": [
  {
   "cell_type": "code",
   "execution_count": 1,
   "metadata": {},
   "outputs": [],
   "source": [
    "import random as rd"
   ]
  },
  {
   "cell_type": "code",
   "execution_count": 2,
   "metadata": {},
   "outputs": [],
   "source": [
    "edges = []"
   ]
  },
  {
   "cell_type": "code",
   "execution_count": 67,
   "metadata": {},
   "outputs": [
    {
     "name": "stdout",
     "output_type": "stream",
     "text": [
      "54\n",
      "[35, 30, 14, 18, 29, 13, 25, 74, 67, 52, 53, 60, 50, 83, 59, 62, 8, 38, 66, 1, 32, 6, 77, 12, 48, 26, 64, 37, 80, 28, 79, 15, 56, 68, 72, 42, 81, 22, 63, 16, 36, 11, 24, 5, 57, 46, 54]\n",
      "47\n"
     ]
    }
   ],
   "source": [
    "edge = rd.randint(1, 84)\n",
    "if edge not in edges:\n",
    "    print(edge)\n",
    "    edges.append(edge)\n",
    "print(edges)\n",
    "print(len(edges))"
   ]
  }
 ],
 "metadata": {
  "kernelspec": {
   "display_name": "Python 3",
   "language": "python",
   "name": "python3"
  },
  "language_info": {
   "codemirror_mode": {
    "name": "ipython",
    "version": 3
   },
   "file_extension": ".py",
   "mimetype": "text/x-python",
   "name": "python",
   "nbconvert_exporter": "python",
   "pygments_lexer": "ipython3",
   "version": "3.13.0"
  }
 },
 "nbformat": 4,
 "nbformat_minor": 2
}
